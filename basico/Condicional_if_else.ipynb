{
 "cells": [
  {
   "cell_type": "code",
   "execution_count": 1,
   "metadata": {},
   "outputs": [],
   "source": [
    "#if ==> se\n",
    "#else ==> senão"
   ]
  },
  {
   "cell_type": "code",
   "execution_count": 2,
   "metadata": {},
   "outputs": [],
   "source": [
    "devo_continuar = True"
   ]
  },
  {
   "cell_type": "code",
   "execution_count": 4,
   "metadata": {},
   "outputs": [
    {
     "name": "stdout",
     "output_type": "stream",
     "text": [
      "Continue\n"
     ]
    }
   ],
   "source": [
    "if devo_continuar:\n",
    "    print(\"Continue\")"
   ]
  },
  {
   "cell_type": "code",
   "execution_count": 10,
   "metadata": {},
   "outputs": [],
   "source": [
    "pessoas_conhecidas = ['Joao','Maria','Ana','Fabio']"
   ]
  },
  {
   "cell_type": "code",
   "execution_count": 15,
   "metadata": {},
   "outputs": [
    {
     "name": "stdout",
     "output_type": "stream",
     "text": [
      "Entre com o nome de uma pessoa: Fernanda\n"
     ]
    }
   ],
   "source": [
    "pessoa = input(\"Entre com o nome de uma pessoa: \")"
   ]
  },
  {
   "cell_type": "code",
   "execution_count": 8,
   "metadata": {},
   "outputs": [
    {
     "data": {
      "text/plain": [
       "'Fernanda'"
      ]
     },
     "execution_count": 8,
     "metadata": {},
     "output_type": "execute_result"
    }
   ],
   "source": [
    "pessoa"
   ]
  },
  {
   "cell_type": "code",
   "execution_count": 16,
   "metadata": {},
   "outputs": [],
   "source": [
    "if pessoa in pessoas_conhecidas:\n",
    "    print(\"Você conhece essa pessoa\")"
   ]
  },
  {
   "cell_type": "code",
   "execution_count": 17,
   "metadata": {},
   "outputs": [
    {
     "name": "stdout",
     "output_type": "stream",
     "text": [
      "Você não conhece essa pessoa\n"
     ]
    }
   ],
   "source": [
    "if pessoa not in pessoas_conhecidas:\n",
    "    print(\"Você não conhece essa pessoa\")"
   ]
  },
  {
   "cell_type": "code",
   "execution_count": 18,
   "metadata": {},
   "outputs": [
    {
     "name": "stdout",
     "output_type": "stream",
     "text": [
      "Você não conhece essa pessoa\n"
     ]
    }
   ],
   "source": [
    "if pessoa in pessoas_conhecidas:\n",
    "    print(\"Você conhece essa pessoa\")\n",
    "else:\n",
    "    print(\"Você não conhece essa pessoa\")"
   ]
  },
  {
   "cell_type": "code",
   "execution_count": 19,
   "metadata": {},
   "outputs": [
    {
     "name": "stdout",
     "output_type": "stream",
     "text": [
      "Você não conhece  Fernanda\n"
     ]
    }
   ],
   "source": [
    "if pessoa in pessoas_conhecidas:\n",
    "    print(\"Você conhece  {}\" .format(pessoa))\n",
    "else:\n",
    "    print(\"Você não conhece  {}\" .format(pessoa))"
   ]
  },
  {
   "cell_type": "code",
   "execution_count": 20,
   "metadata": {},
   "outputs": [
    {
     "name": "stdout",
     "output_type": "stream",
     "text": [
      "Você não conhece Fernanda\n"
     ]
    }
   ],
   "source": [
    "if pessoa in pessoas_conhecidas:\n",
    "    print(\"Você conhece \"+pessoa)\n",
    "else:\n",
    "    print(\"Você não conhece \"+pessoa)"
   ]
  },
  {
   "cell_type": "code",
   "execution_count": null,
   "metadata": {},
   "outputs": [],
   "source": []
  }
 ],
 "metadata": {
  "kernelspec": {
   "display_name": "Python 3",
   "language": "python",
   "name": "python3"
  },
  "language_info": {
   "codemirror_mode": {
    "name": "ipython",
    "version": 3
   },
   "file_extension": ".py",
   "mimetype": "text/x-python",
   "name": "python",
   "nbconvert_exporter": "python",
   "pygments_lexer": "ipython3",
   "version": "3.8.3"
  }
 },
 "nbformat": 4,
 "nbformat_minor": 4
}
