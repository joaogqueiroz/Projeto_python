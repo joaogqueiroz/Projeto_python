{
 "cells": [
  {
   "cell_type": "code",
   "execution_count": 1,
   "metadata": {},
   "outputs": [],
   "source": [
    "# args ==> arguments(argumentos).\n",
    "# kwargs ==> keyword arguments(argumentos de palavras-chave).\n",
    "\n",
    "#we can use them, when don't know how much arguments our method will have.\n",
    "#podemos usá-los , quando não soubermos quantos argumentos nosso metodo ira ter."
   ]
  },
  {
   "cell_type": "code",
   "execution_count": 1,
   "metadata": {},
   "outputs": [],
   "source": [
    "def soma_simplificada(*args): #we can change 'args' for any other word, but just have to reamember to use '*' beforer de word/ podemos trocar o 'args' por qualquer outra palavra, apenas temos de lembrar de usar o '*' antes da palavra\n",
    "    return sum(args)"
   ]
  },
  {
   "cell_type": "code",
   "execution_count": 2,
   "metadata": {},
   "outputs": [
    {
     "data": {
      "text/plain": [
       "104"
      ]
     },
     "execution_count": 2,
     "metadata": {},
     "output_type": "execute_result"
    }
   ],
   "source": [
    "soma_simplificada(6,4,5,55,10,21,1,2)"
   ]
  },
  {
   "cell_type": "code",
   "execution_count": 5,
   "metadata": {},
   "outputs": [],
   "source": [
    "def soma_simplificada(*teste): #this is one exemple/ esse pe um exemplo\n",
    "    return sum(teste)"
   ]
  },
  {
   "cell_type": "code",
   "execution_count": 6,
   "metadata": {},
   "outputs": [
    {
     "data": {
      "text/plain": [
       "104"
      ]
     },
     "execution_count": 6,
     "metadata": {},
     "output_type": "execute_result"
    }
   ],
   "source": [
    "soma_simplificada(6,4,5,55,10,21,1,2)\n"
   ]
  },
  {
   "cell_type": "code",
   "execution_count": 8,
   "metadata": {},
   "outputs": [],
   "source": [
    "def metodo_kwargs(*args, **kwargs):\n",
    "    print('args: 'args)\n",
    "    print('kwargs: 'kwargs)"
   ]
  },
  {
   "cell_type": "code",
   "execution_count": 10,
   "metadata": {},
   "outputs": [
    {
     "name": "stdout",
     "output_type": "stream",
     "text": [
      "(3, 'saa', 4, 'qualquer')\n",
      "{'nome': 'Ana', 'idade': 25}\n"
     ]
    }
   ],
   "source": [
    "metodo_kwargs(3,'saa',4,'qualquer', nome='Ana', idade=25)"
   ]
  },
  {
   "cell_type": "code",
   "execution_count": null,
   "metadata": {},
   "outputs": [],
   "source": []
  }
 ],
 "metadata": {
  "kernelspec": {
   "display_name": "Python 3",
   "language": "python",
   "name": "python3"
  },
  "language_info": {
   "codemirror_mode": {
    "name": "ipython",
    "version": 3
   },
   "file_extension": ".py",
   "mimetype": "text/x-python",
   "name": "python",
   "nbconvert_exporter": "python",
   "pygments_lexer": "ipython3",
   "version": "3.8.3"
  }
 },
 "nbformat": 4,
 "nbformat_minor": 4
}
